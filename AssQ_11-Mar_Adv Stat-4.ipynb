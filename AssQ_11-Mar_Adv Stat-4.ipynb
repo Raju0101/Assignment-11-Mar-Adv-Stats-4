{
 "cells": [
  {
   "cell_type": "markdown",
   "id": "5d3ccfab-907f-4b4a-bb33-c7736fbc97c7",
   "metadata": {},
   "source": [
    "#Assignment :11- March , Adv Stats- assq-4"
   ]
  },
  {
   "cell_type": "code",
   "execution_count": 1,
   "id": "4ca0e691-ab18-4544-b534-59c0ab378ea9",
   "metadata": {},
   "outputs": [],
   "source": [
    "# Q1: What is the difference between a t-test and a z-test? Provide an example scenario where you would \n",
    "# use each type of test."
   ]
  },
  {
   "cell_type": "code",
   "execution_count": null,
   "id": "e9e97c49-7c50-4f15-83e5-346653cc5fe0",
   "metadata": {},
   "outputs": [],
   "source": [
    "#  A z-test is used to test a Null Hypothesis if the population variance is known, or if the\n",
    "# sample size is larger than 30, for an unknown population variance.\n",
    "# A t-test is used when the sample size is less than 30 and the population variance is unknown.\n",
    "\n",
    "# Z-test is the statistical hypothesis used to determine whether the two samples' means calculated are\n",
    "# different if the standard deviation is available and the sample is large. In contrast, the T-test determines\n",
    "# how averages of different data sets differ in case the standard deviation or the variance is unknown.\n",
    "\n",
    "# If the population standard deviation is known and the sample size is greater than 30, Z-test is recommended to be used.\n",
    "# If the population standard deviation is known, and the size of the sample is less than or equal to 30, \n",
    "# T-test is recommended. If the population standard deviation is unknown, T-test is recommended\n"
   ]
  },
  {
   "cell_type": "code",
   "execution_count": null,
   "id": "348c64b7-b91d-4bce-9487-61701009d121",
   "metadata": {},
   "outputs": [],
   "source": []
  },
  {
   "cell_type": "code",
   "execution_count": 2,
   "id": "26897196-8f62-4641-9c65-29ec68ccd2ea",
   "metadata": {},
   "outputs": [],
   "source": [
    "# Q2: Differentiate between one-tailed and two-tailed tests."
   ]
  },
  {
   "cell_type": "code",
   "execution_count": null,
   "id": "cfeaa7de-ec96-47f3-ace1-760a8cf92664",
   "metadata": {},
   "outputs": [],
   "source": [
    "# One-tailed tests allow for the possibility of an effect in one direction. Two-tailed tests test for \n",
    "# the possibility of an effect in two directions—positive and negative.\n",
    "\n",
    "# A statistical hypothesis test in which alternative hypothesis has only one end, is known as one tailed test.\n",
    "# A significance test in which alternative hypothesis has two ends, is called two-tailed test."
   ]
  },
  {
   "cell_type": "code",
   "execution_count": null,
   "id": "b68fa95c-859f-4560-90a1-6259d7663a5e",
   "metadata": {},
   "outputs": [],
   "source": []
  },
  {
   "cell_type": "code",
   "execution_count": null,
   "id": "87342ec4-c2af-43c2-b74e-5d552aea6c0e",
   "metadata": {},
   "outputs": [],
   "source": [
    "# Q3: Explain the concept of Type 1 and Type 2 errors in hypothesis testing. Provide an example scenario for \n",
    "# each type of error."
   ]
  },
  {
   "cell_type": "code",
   "execution_count": null,
   "id": "ba47f74f-f544-4e4e-ac18-34e9ab3c14b3",
   "metadata": {},
   "outputs": [],
   "source": [
    "# Type 1 error (FP) :- If , Jury sent him jail but in real he is not done crime.\n",
    "# Type 2 error (FN) :- If, Jury not sent him jail but in real he is done the crime.\n",
    "\n",
    "# There are two errors that could potentially occur:\n",
    "# Type I error (false positive): the test result says you have coronavirus, but you actually don't.\n",
    "# Type II error (false negative): the test result says you don't have coronavirus, but you actually do."
   ]
  },
  {
   "cell_type": "code",
   "execution_count": null,
   "id": "a4f18f88-2680-4735-b912-0eeaa02522d9",
   "metadata": {},
   "outputs": [],
   "source": []
  },
  {
   "cell_type": "code",
   "execution_count": 3,
   "id": "9778096e-5ef2-4619-b24a-b3333d46f6eb",
   "metadata": {},
   "outputs": [],
   "source": [
    "# Q4:  Explain Bayes's theorem with an example."
   ]
  },
  {
   "cell_type": "code",
   "execution_count": null,
   "id": "66f53733-9b23-4b49-95fe-bde8cc0afd6b",
   "metadata": {},
   "outputs": [],
   "source": [
    "# Bayes theorem gives the probability of an “event” with the given information on “tests”. \n",
    "# There is a difference between “events” and “tests”. For example there is a test for liver disease, \n",
    "# which is different from actually having the liver disease, i.e. an event. \n",
    "# Rare events might be having a higher false positive rate.\n",
    "\n",
    "# Bayes theorem is also known as the formula for the probability of “causes”. \n",
    "# For example: if we have to calculate the probability of taking a blue ball from the second bag \n",
    "# out of three different bags of balls, where each bag contains three \n",
    "# different colour balls viz. red, blue, black"
   ]
  },
  {
   "cell_type": "code",
   "execution_count": null,
   "id": "32b3948f-2d14-4bd1-9f76-a0699d967bc0",
   "metadata": {},
   "outputs": [],
   "source": []
  },
  {
   "cell_type": "code",
   "execution_count": 4,
   "id": "830fd993-ef72-473c-9341-e9f5165a7a07",
   "metadata": {},
   "outputs": [],
   "source": [
    "# Q5: What is a confidence interval? How to calculate the confidence interval, explain with an example."
   ]
  },
  {
   "cell_type": "code",
   "execution_count": null,
   "id": "9ba2a252-0aec-4047-8c8a-731b5ea36ced",
   "metadata": {},
   "outputs": [],
   "source": [
    "# confidence interval :-\n",
    "# A confidence interval is the mean of our estimate plus and minus the variation in that estimate.\n",
    "# This is the range of values we expect our estimate to fall between if we redo our test,\n",
    "# within a certain level of confidence. Confidence, in statistics, is another way to describe probability.\n",
    "\n",
    "# Once the standard error is calculated, the confidence interval is determined by multiplying the standard\n",
    "# error by a constant that reflects the level of significance desired, based on the normal distribution.\n",
    "# The constant for 95 percent confidence intervals is 1.96.\n",
    "\n",
    "# For example, in 2005 the statewide estimated percentage of adults currently smoking was 20.7%. \n",
    "# The 95% confidence interval around that estimate is +/- 1.1%. We are 95% confident that the actual\n",
    "# percentage of smokers in the whole adult Wisconsin population in2005 was between 19.6% and 21.8% (20.7% ± 1.1%)."
   ]
  },
  {
   "cell_type": "code",
   "execution_count": null,
   "id": "a16f9d6d-f6fd-44ab-ba6c-aa5898fb38a2",
   "metadata": {},
   "outputs": [],
   "source": [
    "# Q6. Use Bayes' Theorem to calculate the probability of an event occurring given prior knowledge of the \n",
    "# event's probability and new evidence. Provide a sample problem and solution."
   ]
  },
  {
   "cell_type": "code",
   "execution_count": null,
   "id": "ba6ee83a-f3d5-43f1-9d80-165454cc0132",
   "metadata": {},
   "outputs": [],
   "source": [
    "# Lets assume there are 5 balls in bucket, 3-yello, 2-red\n",
    "\n",
    "# Pr(Y) = 3/5\n",
    "# Pr(R) = 2/4=1/2\n",
    "\n",
    "# Pr(R and Y) = Pr(R) *  Pr(Y/R) = 1/2*3/5 = 3/10\n",
    "\n",
    "#    Pr(A & B) = Pr(B & A)\n",
    "\n",
    "#      Pr(A)* Pr(B/A) = Pr(B) * Pr(A/B)\n",
    "\n",
    "#           Pr(B/A) = [Pr(B) * Pr(A/B)]/ Pr(A)    ...........Bayes' Theorem\n",
    "\n",
    "#                                               Pr(A/B) .......Conditional Probability"
   ]
  },
  {
   "cell_type": "code",
   "execution_count": null,
   "id": "c412212a-e43b-40fd-83f6-20d4d5710f88",
   "metadata": {},
   "outputs": [],
   "source": []
  },
  {
   "cell_type": "code",
   "execution_count": 2,
   "id": "57e1e5e7-83d4-4331-8cf0-099c14ed3414",
   "metadata": {},
   "outputs": [],
   "source": [
    "# Q8. What is the margin of error in a confidence interval? How does sample size affect the margin of error? \n",
    "# Provide an example of a scenario where a larger sample size would result in a smaller margin of error."
   ]
  },
  {
   "cell_type": "code",
   "execution_count": null,
   "id": "2ae6be8a-758e-4033-b10b-1099a3216b0e",
   "metadata": {},
   "outputs": [],
   "source": [
    "# Margin of error, also called confidence interval, tells us how much we can expect our \n",
    "# survey results to reflect the views from the overall population.\n",
    "\n",
    "# Sample size and margin of error have an inverse relationship. When your sample increases, your margin of error goes down\n",
    "\n",
    "# It is intuitive that a greater sample size will be a closer representative of the population\n",
    "# than a smaller sample size. Hence, the larger the sample size, the smaller the sample standard error and \n",
    "# therefore the smaller the margin of error."
   ]
  },
  {
   "cell_type": "code",
   "execution_count": null,
   "id": "beef75b4-6090-4e3c-8bca-8d250b52a7af",
   "metadata": {},
   "outputs": [],
   "source": [
    "#Q9. Calculate the z-score for a data point with a value of 75, a population mean of 70, and a population \n",
    "# standard deviation of 5. Interpret the results."
   ]
  },
  {
   "cell_type": "code",
   "execution_count": null,
   "id": "5cf4a282-0e61-4876-8c84-81e5ae31ab36",
   "metadata": {},
   "outputs": [],
   "source": [
    "#             Z = (75-70)/5       = 1"
   ]
  }
 ],
 "metadata": {
  "kernelspec": {
   "display_name": "Python 3 (ipykernel)",
   "language": "python",
   "name": "python3"
  },
  "language_info": {
   "codemirror_mode": {
    "name": "ipython",
    "version": 3
   },
   "file_extension": ".py",
   "mimetype": "text/x-python",
   "name": "python",
   "nbconvert_exporter": "python",
   "pygments_lexer": "ipython3",
   "version": "3.10.6"
  }
 },
 "nbformat": 4,
 "nbformat_minor": 5
}
